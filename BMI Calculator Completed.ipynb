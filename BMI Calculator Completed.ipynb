{
 "cells": [
  {
   "cell_type": "markdown",
   "id": "5707e904",
   "metadata": {},
   "source": [
    "# BMI Calculator"
   ]
  },
  {
   "cell_type": "code",
   "execution_count": 1,
   "id": "db465099",
   "metadata": {},
   "outputs": [],
   "source": [
    "#BMI = (weight in pounds X 703) /(height in inches X height in inches)"
   ]
  },
  {
   "cell_type": "code",
   "execution_count": 74,
   "id": "030b40c7",
   "metadata": {},
   "outputs": [
    {
     "name": "stdout",
     "output_type": "stream",
     "text": [
      "Enter your weight in pounds: 100\n",
      "You entered 100.0 pounds\n",
      "Enter your height in inches: 60\n",
      "You entered 60.0 pounds\n",
      "Your BMI is 19.52777777777778 you are Normal weight: Your BMI is average\n"
     ]
    }
   ],
   "source": [
    "\n",
    "#while weight == 0 or weight > 600:\n",
    "weight = float(input(\"Enter your weight in pounds: \"))\n",
    "    #print(\"Enter a valid weight between 1 and 599 pounds\")\n",
    "#else:\n",
    "print(\"You entered \"+ str(weight) + \" pounds\")\n",
    "\n",
    "#while height == 0 or height > 96:\n",
    "height = float(input(\"Enter your height in inches: \"))\n",
    "    #print(\"Enter a valid height between 1 and 96 inches\")\n",
    "#else:\n",
    "print(\"You entered \"+ str(height) + \" pounds\")\n",
    "\n",
    "BMI = (weight * 703) / (height * height)\n",
    "\n",
    "output = \"Your BMI is \" + str(BMI) + \" you are \"\n",
    "\n",
    "if BMI >0:\n",
    "    if(BMI < 18.5):\n",
    "        print(output + \"underweight: You need to eat\")\n",
    "    elif(BMI <=24.9):\n",
    "        print(output + \"Normal weight: Your BMI is average\") \n",
    "    elif(BMI <=29.9):\n",
    "        print(output + \"Overweight: You may need to diet and exercise\")\n",
    "    elif(BMI <=34.9):\n",
    "        print(output + \"Obese: Your BMI put you at risk for disease, stop eating mcdonalds\")\n",
    "    elif(BMI <=39.9):\n",
    "        print(output + \"Severely Obese: Your BMI is very high lay off the cookies!\")\n",
    "    elif(BMI >= 40):\n",
    "        print(output + \"Morbidly Obese: Your BMI is dangerously high\")"
   ]
  },
  {
   "cell_type": "markdown",
   "id": "54be92d8",
   "metadata": {},
   "source": [
    "###### "
   ]
  },
  {
   "cell_type": "code",
   "execution_count": 10,
   "id": "059a3c07",
   "metadata": {},
   "outputs": [],
   "source": []
  },
  {
   "cell_type": "code",
   "execution_count": 11,
   "id": "1dbe33df",
   "metadata": {},
   "outputs": [
    {
     "name": "stdout",
     "output_type": "stream",
     "text": [
      "28.793320730938877\n"
     ]
    }
   ],
   "source": []
  },
  {
   "cell_type": "code",
   "execution_count": 18,
   "id": "2fbe013e",
   "metadata": {},
   "outputs": [
    {
     "name": "stdout",
     "output_type": "stream",
     "text": [
      "Overweight: You may need to diet and exercise\n"
     ]
    }
   ],
   "source": []
  },
  {
   "cell_type": "code",
   "execution_count": null,
   "id": "11eb917d",
   "metadata": {},
   "outputs": [],
   "source": []
  }
 ],
 "metadata": {
  "kernelspec": {
   "display_name": "Python 3 (ipykernel)",
   "language": "python",
   "name": "python3"
  },
  "language_info": {
   "codemirror_mode": {
    "name": "ipython",
    "version": 3
   },
   "file_extension": ".py",
   "mimetype": "text/x-python",
   "name": "python",
   "nbconvert_exporter": "python",
   "pygments_lexer": "ipython3",
   "version": "3.9.13"
  }
 },
 "nbformat": 4,
 "nbformat_minor": 5
}
