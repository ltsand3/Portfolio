{
 "cells": [
  {
   "cell_type": "code",
   "execution_count": 35,
   "id": "07cb7258",
   "metadata": {},
   "outputs": [],
   "source": [
    "import os, shutil"
   ]
  },
  {
   "cell_type": "code",
   "execution_count": 36,
   "id": "8f2cae9b",
   "metadata": {},
   "outputs": [],
   "source": [
    "path = r\"C:/Users/LesT3/Documents/File Sorter Test/\""
   ]
  },
  {
   "cell_type": "code",
   "execution_count": 37,
   "id": "d99b86ed",
   "metadata": {},
   "outputs": [],
   "source": [
    "file_name = os.listdir(path)"
   ]
  },
  {
   "cell_type": "code",
   "execution_count": 38,
   "id": "effe9d55",
   "metadata": {},
   "outputs": [],
   "source": [
    "#os.path.exists(path + 'xlsx files') # Tests to see if path exists"
   ]
  },
  {
   "cell_type": "code",
   "execution_count": 39,
   "id": "34202a88",
   "metadata": {},
   "outputs": [],
   "source": [
    "folder_names = ['xlxs files', 'jpeg files', 'text files']\n",
    "\n",
    "for loop in range(0,3):\n",
    "    if not os.path.exists(path + folder_names[loop]):\n",
    "        print(path + folder_names[loop])\n",
    "        os.makedirs((path + folder_names[loop]))"
   ]
  },
  {
   "cell_type": "code",
   "execution_count": 40,
   "id": "4f53f625",
   "metadata": {},
   "outputs": [],
   "source": [
    "for file in file_name:\n",
    "    if \".xlxs\" in file and not os.path.exists(path + \"xlxs files/\" + file):\n",
    "        shutil.move(path + file, path + \"xlxs files/\" + file)\n",
    "    if \".jpg\" in file and not os.path.exists(path + \"jpeg files/\" + file):\n",
    "        shutil.move(path + file, path + \"jpeg files/\" + file)\n",
    "    if \".txt\" in file and not os.path.exists(path + \"text files/\" + file):\n",
    "        shutil.move(path + file, path + \"text files/\" + file)\n",
    "    \n",
    "        "
   ]
  },
  {
   "cell_type": "code",
   "execution_count": null,
   "id": "345da0f0",
   "metadata": {},
   "outputs": [],
   "source": []
  },
  {
   "cell_type": "code",
   "execution_count": null,
   "id": "40cd69ab",
   "metadata": {},
   "outputs": [],
   "source": []
  }
 ],
 "metadata": {
  "kernelspec": {
   "display_name": "Python 3 (ipykernel)",
   "language": "python",
   "name": "python3"
  },
  "language_info": {
   "codemirror_mode": {
    "name": "ipython",
    "version": 3
   },
   "file_extension": ".py",
   "mimetype": "text/x-python",
   "name": "python",
   "nbconvert_exporter": "python",
   "pygments_lexer": "ipython3",
   "version": "3.9.13"
  }
 },
 "nbformat": 4,
 "nbformat_minor": 5
}
